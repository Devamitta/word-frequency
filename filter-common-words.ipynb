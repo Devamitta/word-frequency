{
 "cells": [
  {
   "cell_type": "code",
   "execution_count": null,
   "metadata": {},
   "outputs": [],
   "source": [
    "import pandas as pd\n",
    "import re\n",
    "\n",
    "df_nid = pd.read_csv(\"/home/deva/Documents/dps/spreadsheets/nidh_bold.csv\", sep=\"\\t\", dtype= str)\n",
    "df_nid.fillna(\"\", inplace=True)\n",
    "\n",
    "df_sbs = pd.read_csv(\"/home/deva/Documents/dps/spreadsheets/sbs-pd.csv\", sep=\"\\t\", dtype= str)\n",
    "df_sbs.fillna(\"\", inplace=True)\n",
    "\n",
    "df_comb = pd.read_csv(\"./frequent-words/comb.csv\", sep=\"\\t\", dtype= str)\n",
    "df_comb.fillna(\"\", inplace=True)"
   ]
  },
  {
   "cell_type": "code",
   "execution_count": null,
   "metadata": {},
   "outputs": [],
   "source": [
    "# filter\n",
    "test2 = df_nid['Meaning IN CONTEXT'] != \"\"\n",
    "test3 = df_nid['Source1'] != \"\"\n",
    "filter = test2 & test3\n",
    "df_nid = df_nid.loc[filter]"
   ]
  },
  {
   "cell_type": "code",
   "execution_count": null,
   "metadata": {},
   "outputs": [],
   "source": [
    "# removing numbers nid\n",
    "df_nid.insert(38, 'Pāli2', df_nid['Pāli1'])\n",
    "df_nid['Pāli1'] = df_nid['Pāli1'].str.replace('\\d+', '')\n",
    "df_nid['Pāli1'] = df_nid['Pāli1'].str.replace(' ', '')"
   ]
  },
  {
   "cell_type": "code",
   "execution_count": null,
   "metadata": {},
   "outputs": [],
   "source": [
    "# removing numbers sbs\n",
    "df_sbs.insert(38, 'Pāli2', df_sbs['Pāli1'])\n",
    "df_sbs['Pāli1'] = df_sbs['Pāli1'].str.replace('\\d+', '')\n",
    "df_sbs['Pāli1'] = df_sbs['Pāli1'].str.replace(' ', '')"
   ]
  },
  {
   "cell_type": "code",
   "execution_count": null,
   "metadata": {},
   "outputs": [],
   "source": [
    "test1 = df_nid['Pāli1'].isin(df_comb['Pāli1'])\n",
    "test2 = df_nid['Pattern'].isin(df_comb['Pattern'])\n",
    "\n",
    "logix = test1 & test2\n",
    "\n",
    "df_nid_frequent = df_nid[logix]"
   ]
  },
  {
   "cell_type": "code",
   "execution_count": null,
   "metadata": {},
   "outputs": [],
   "source": [
    "test1 = df_sbs['Pāli1'].isin(df_comb['Pāli1'])\n",
    "test2 = df_sbs['Pattern'].isin(df_comb['Pattern'])\n",
    "\n",
    "logix = test1 & test2\n",
    "\n",
    "df_sbs_frequent = df_sbs[logix]"
   ]
  },
  {
   "cell_type": "code",
   "execution_count": null,
   "metadata": {},
   "outputs": [],
   "source": [
    "# merge frequency column\n",
    "df_final_nid = pd.merge(df_nid_frequent, df_comb, how='left')\n",
    "\n",
    "df_final_sbs = pd.merge(df_sbs_frequent, df_comb, how='left')"
   ]
  },
  {
   "cell_type": "code",
   "execution_count": null,
   "metadata": {},
   "outputs": [],
   "source": [
    "# retern numbers\n",
    "df_final_nid['Pāli1']=df_final_nid['Pāli2']\n",
    "df_final_sbs['Pāli1']=df_final_sbs['Pāli2']"
   ]
  },
  {
   "cell_type": "code",
   "execution_count": null,
   "metadata": {},
   "outputs": [],
   "source": [
    "# adding feedback\n",
    "df_final_nid.reset_index(drop=True, inplace=True)\n",
    "df_final_nid['Feedback'] = f\"\"\"Spot a mistake? <a class=\"link\" href=\"https://docs.google.com/forms/d/e/1FAIpQLScNC5v2gQbBCM3giXfYIib9zrp-WMzwJuf_iVXEMX2re4BFFw/viewform?usp=pp_url&entry.438735500=\"\"\" + df_final_nid.Pāli1 + \"\"\"&entry.1433863141=Anki\">Fix it here</a>.\"\"\""
   ]
  },
  {
   "cell_type": "code",
   "execution_count": null,
   "metadata": {},
   "outputs": [],
   "source": [
    "# save csv\n",
    "df_final_nid.to_csv(f\"/home/deva/Documents/dps/spreadsheets/nid-most-common.csv\", sep=\"\\t\", index=None)\n",
    "\n",
    "df_final_sbs.to_csv(f\"/home/deva/Documents/dps/spreadsheets/sbs-most-common.csv\", sep=\"\\t\", index=None)"
   ]
  }
 ],
 "metadata": {
  "kernelspec": {
   "display_name": "Python 3.10.2 64-bit",
   "language": "python",
   "name": "python3"
  },
  "language_info": {
   "codemirror_mode": {
    "name": "ipython",
    "version": 3
   },
   "file_extension": ".py",
   "mimetype": "text/x-python",
   "name": "python",
   "nbconvert_exporter": "python",
   "pygments_lexer": "ipython3",
   "version": "3.10.2"
  },
  "vscode": {
   "interpreter": {
    "hash": "aee8b7b246df8f9039afb4144a1f6fd8d2ca17a180786b69acc140d282b71a49"
   }
  }
 },
 "nbformat": 4,
 "nbformat_minor": 2
}
