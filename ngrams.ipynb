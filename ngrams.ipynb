{
 "cells": [
  {
   "cell_type": "code",
   "execution_count": 11,
   "metadata": {},
   "outputs": [],
   "source": [
    "from nltk.tokenize import word_tokenize\n",
    "from nltk.util import ngrams\n",
    "import pandas as pd"
   ]
  },
  {
   "cell_type": "code",
   "execution_count": 12,
   "metadata": {},
   "outputs": [],
   "source": [
    "# open ebts.txt\n",
    "ebt_path = \"original-sources/ebts.txt\" #change to yours\n",
    "with open (ebt_path, \"r\") as f:\n",
    "\ttext = str(f.read())"
   ]
  },
  {
   "cell_type": "code",
   "execution_count": 14,
   "metadata": {},
   "outputs": [],
   "source": [
    "# make ngrams\n",
    "def get_ngrams(text, n):\n",
    "    n_grams = ngrams(word_tokenize(text), n)\n",
    "    return [ ' '.join(grams) for grams in n_grams]\n",
    "\n",
    "bigrams = get_ngrams(text, 2)\n",
    "trigrams = get_ngrams(text, 3)\n",
    "fourgrams = get_ngrams(text, 4)\n",
    "fivegrams = get_ngrams(text, 5)\n",
    "sixgrams = get_ngrams(text, 6)\n",
    "sevengrams = get_ngrams(text, 7)\n",
    "eightgrams = get_ngrams(text, 8)\n",
    "ninegrams = get_ngrams(text, 9)\n",
    "tengrams = get_ngrams(text, 10)"
   ]
  },
  {
   "cell_type": "code",
   "execution_count": 15,
   "metadata": {},
   "outputs": [],
   "source": [
    "bigrams_df = pd.DataFrame(bigrams)\n",
    "bigrams_count = bigrams_df.value_counts()\n",
    "bigrams_count.head(1500).to_csv(\"output/bigrams.csv\", sep=\"\\t\", header=None)"
   ]
  },
  {
   "cell_type": "code",
   "execution_count": 16,
   "metadata": {},
   "outputs": [],
   "source": [
    "trigrams_df = pd.DataFrame(trigrams)\n",
    "trigrams_count = trigrams_df.value_counts()\n",
    "trigrams_count.head(1500).to_csv(\"output/trigrams.csv\", sep=\"\\t\", header=None)"
   ]
  },
  {
   "cell_type": "code",
   "execution_count": 17,
   "metadata": {},
   "outputs": [],
   "source": [
    "fourgrams_df = pd.DataFrame(fourgrams)\n",
    "fourgrams_count = fourgrams_df.value_counts()\n",
    "fourgrams_count.head(1500).to_csv(\"output/fourgrams.csv\", sep=\"\\t\", header=None)"
   ]
  },
  {
   "cell_type": "code",
   "execution_count": 18,
   "metadata": {},
   "outputs": [],
   "source": [
    "fivegrams_df = pd.DataFrame(fivegrams)\n",
    "fivegrams_count = fivegrams_df.value_counts()\n",
    "fivegrams_count.head(1500).to_csv(\"output/fivegrams.csv\", sep=\"\\t\", header=None)"
   ]
  },
  {
   "cell_type": "code",
   "execution_count": 19,
   "metadata": {},
   "outputs": [],
   "source": [
    "sixgrams_df = pd.DataFrame(sixgrams)\n",
    "sixgrams_count = sixgrams_df.value_counts()\n",
    "sixgrams_count.head(1500).to_csv(\"output/sixgrams.csv\", sep=\"\\t\", header=None)"
   ]
  },
  {
   "cell_type": "code",
   "execution_count": 20,
   "metadata": {},
   "outputs": [],
   "source": [
    "sevengrams_df = pd.DataFrame(sevengrams)\n",
    "sevengrams_count = sevengrams_df.value_counts()\n",
    "sevengrams_count.head(1500).to_csv(\"output/sevengrams.csv\", sep=\"\\t\", header=None)"
   ]
  },
  {
   "cell_type": "code",
   "execution_count": null,
   "metadata": {},
   "outputs": [],
   "source": [
    "eightgrams_df = pd.DataFrame(eightgrams)\n",
    "eightgrams_count = eightgrams_df.value_counts()\n",
    "eightgrams_count.head(1500).to_csv(\"output/eightgrams.csv\", sep=\"\\t\", header=None)"
   ]
  },
  {
   "cell_type": "code",
   "execution_count": null,
   "metadata": {},
   "outputs": [],
   "source": [
    "ninegrams_df = pd.DataFrame(ninegrams)\n",
    "ninegrams_count = ninegrams_df.value_counts()\n",
    "ninegrams_count.head(1500).to_csv(\"output/ninegrams.csv\", sep=\"\\t\", header=None)"
   ]
  },
  {
   "cell_type": "code",
   "execution_count": null,
   "metadata": {},
   "outputs": [],
   "source": [
    "tengrams_df = pd.DataFrame(tengrams)\n",
    "tengrams_count = tengrams_df.value_counts()\n",
    "tengrams_count.head(1500).to_csv(\"output/tengrams.csv\", sep=\"\\t\", header=None)"
   ]
  }
 ],
 "metadata": {
  "kernelspec": {
   "display_name": "Python 3.10.2 64-bit",
   "language": "python",
   "name": "python3"
  },
  "language_info": {
   "codemirror_mode": {
    "name": "ipython",
    "version": 3
   },
   "file_extension": ".py",
   "mimetype": "text/x-python",
   "name": "python",
   "nbconvert_exporter": "python",
   "pygments_lexer": "ipython3",
   "version": "3.10.2"
  },
  "orig_nbformat": 4,
  "vscode": {
   "interpreter": {
    "hash": "aee8b7b246df8f9039afb4144a1f6fd8d2ca17a180786b69acc140d282b71a49"
   }
  }
 },
 "nbformat": 4,
 "nbformat_minor": 2
}
